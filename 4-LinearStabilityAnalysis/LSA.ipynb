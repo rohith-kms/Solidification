{
 "cells": [
  {
   "cell_type": "markdown",
   "metadata": {},
   "source": [
    "# Linear Stability Analysis\n",
    "\n",
    "Applying Linear stability analysis on a perturbed planar solidification front, where the perturbations are $\\delta sin(\\omega x)$, we get:\n",
    "\n",
    "$$\\frac{\\dot{\\delta}}{\\delta} = \\frac{Db}{C_0(k-1)} \\big[ k_{\\omega} - \\frac{v(1-k)}{D} \\big] + v\\big[ k_{\\omega} -\\frac{v}{D} \\big]$$\n",
    "\n",
    "\n",
    "\n",
    "Where: \n",
    "\n",
    "$k_{\\omega} = \\frac{v}{2D} + \\sqrt{\\frac{v^2}{4D^2} + \\omega^2}$\n",
    "\n",
    "$b = \\frac{G+\\Gamma \\omega^2}{m}$\n",
    "\n",
    "$\\omega$ is the mode of the perturbation\n",
    "\n",
    "$v$ is the velocity of the interface\n",
    "\n",
    "$\\Gamma_{sl} = \\frac{\\gamma_{sl} T_m}{L_f}$ is the Gibbs-Thompson parameter\n",
    "\n",
    "$k$ is the partition coefficient\n",
    "\n",
    "$m$ is the slope of the liquidus line\n",
    "\n",
    "$D$ is the diffusivity of the solute atom\n",
    "\n",
    "$G$ is the Temperature gradient at the interface\n",
    "\n",
    "$C_0$ is the composition at the interface\n"
   ]
  },
  {
   "cell_type": "code",
   "execution_count": 64,
   "metadata": {
    "collapsed": true
   },
   "outputs": [],
   "source": [
    "import numpy as np\n",
    "import matplotlib.pyplot as plt\n",
    "% matplotlib inline"
   ]
  },
  {
   "cell_type": "code",
   "execution_count": 65,
   "metadata": {},
   "outputs": [
    {
     "name": "stdout",
     "output_type": "stream",
     "text": [
      "2.445599667082813e-07\n"
     ]
    }
   ],
   "source": [
    "# Define the variables. We have already calculated many of these values for previous analyses.\n",
    "# At a composition of C_0 = 0.1\n",
    "\n",
    "C_0 = 0.1\n",
    "k = 0.82\n",
    "m = -256.167 # K\n",
    "D = 9.6975e-07 # m^2/s\n",
    "T_m = 1701.172 # K\n",
    "\n",
    "# Values for Nickel\n",
    "rho = 8900       # density            Kg/m^3\n",
    "L_f = 297000     # Heat of fusion     J/Kg\n",
    "gam = 0.38       # J/m^2 - Approximate value, taken from s-l interface energy of Nickel\n",
    "\n",
    "Gam = gam*T_m/(L_f*rho)\n",
    "#Gam = 0.00003\n",
    "\n",
    "# Assigned values\n",
    "\n",
    "v = 10e-6 # m/s = 10um/s\n",
    "G = 5e3   # K/m = 5K/mm\n",
    "\n",
    "# Derived variables\n",
    "\n",
    "def k_w(w):\n",
    "    \n",
    "    return v/(2*D) + np.sqrt(np.power(v/(2*D),2) + np.power(w,2))\n",
    "\n",
    "def b(w):\n",
    "    \n",
    "    return (G - Gam*np.power(w,2))/m\n",
    "\n",
    "print(Gam)"
   ]
  },
  {
   "cell_type": "code",
   "execution_count": 59,
   "metadata": {
    "collapsed": true
   },
   "outputs": [],
   "source": [
    "def ddotByd(w):\n",
    "    \n",
    "    return D*b(w)/(C_0*(k-1))*(k_w(w) - v*(1-k)/D) + v*(k_w(w) - v/D)"
   ]
  },
  {
   "cell_type": "code",
   "execution_count": 63,
   "metadata": {},
   "outputs": [
    {
     "data": {
      "text/plain": [
       "[<matplotlib.lines.Line2D at 0x7f99fb307860>]"
      ]
     },
     "execution_count": 63,
     "metadata": {},
     "output_type": "execute_result"
    },
    {
     "data": {
      "image/png": "[encoded data removed]",
      "text/plain": [
       "<Figure size 576x432 with 1 Axes>"
      ]
     },
     "metadata": {},
     "output_type": "display_data"
    }
   ],
   "source": [
    "w_list = np.linspace(0,150000,100)\n",
    "\n",
    "fig,ax = plt.subplots(figsize=(8,6))\n",
    "\n",
    "#ax.set_xlim(0,40)\n",
    "ax.set_xlabel(\"w\")\n",
    "ax.set_ylabel(\"ddot/d\")\n",
    "ax.axhline(0,0,1,linestyle='--',color='gray')\n",
    "ax.plot(w_list,ddotByd(w_list))"
   ]
  }
 ],
 "metadata": {
  "kernelspec": {
   "display_name": "Python 3",
   "language": "python",
   "name": "python3"
  },
  "language_info": {
   "codemirror_mode": {
    "name": "ipython",
    "version": 3
   },
   "file_extension": ".py",
   "mimetype": "text/x-python",
   "name": "python",
   "nbconvert_exporter": "python",
   "pygments_lexer": "ipython3",
   "version": "3.6.3"
  }
 },
 "nbformat": 4,
 "nbformat_minor": 2
}
