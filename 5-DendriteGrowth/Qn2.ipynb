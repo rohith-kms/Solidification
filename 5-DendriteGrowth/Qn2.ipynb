{
 "cells": [
  {
   "cell_type": "markdown",
   "metadata": {},
   "source": [
    "# Question 2:\n",
    "\n",
    "In experiments, Dendrites select a unique radius of curvature $R_{tip}$ and growth velocity $v_{tip}$ for a specific undercooling $\\Delta T$. The Lipton-Glicksman-Kurz (LGK) model is an approximate solution for $(R_{tip},v_{tip})$ based on the marginal stability theory.\n",
    "\n",
    "The $R_{tip}$ and $v_{tip}$ can be found by solving the following equations:\n",
    "\n",
    "$$\\Delta T = \\frac{2\\Gamma_{sl}}{R_{tip}} - m_l C_0 \\frac{(1-k) Iv_{3D}(Pe_C)}{1-(1-k) Iv_{3D}(Pe_C)}$$\n",
    "\n",
    "$$R_{tip}^2 v = -\\bigg( \\frac{1}{\\sigma^{*}} \\bigg)^2 \\frac{2D_l \\Gamma_{sl}}{m C_0 (1-k)}$$\n",
    "\n",
    "Where $Iv_{3D}$ is the Ivantsov function given by\n",
    "\n",
    "$$Iv_{3D}(x) = x E_1(x) e^{x}$$\n",
    "\n",
    "$E_1$ is the exponential integral\n",
    "\n",
    "$$E_1(x) = \\int_x^\\infty \\frac{e^{-y}}{y} dy$$\n",
    "\n",
    "\n",
    "#### Peclet numbers:\n",
    "\n",
    "Pe_C is soultal peclet number\n",
    "\n",
    "$$Pe_C = \\frac{R_{tip}v^{*}}{2D}$$"
   ]
  },
  {
   "cell_type": "code",
   "execution_count": 1,
   "metadata": {
    "collapsed": true
   },
   "outputs": [],
   "source": [
    "# import reqired libraries\n",
    "\n",
    "import numpy as np\n",
    "import matplotlib.pyplot as plt\n",
    "from scipy.special import exp1\n",
    "from scipy.optimize import fsolve\n",
    "\n",
    "% matplotlib inline"
   ]
  },
  {
   "cell_type": "code",
   "execution_count": 21,
   "metadata": {},
   "outputs": [
    {
     "name": "stdout",
     "output_type": "stream",
     "text": [
      "4.1518652243846516e-07\n"
     ]
    }
   ],
   "source": [
    "# Define stuff\n",
    "\n",
    "# From values for Nickel\n",
    "\n",
    "\n",
    "\n",
    "# For X_Cu = 0.1\n",
    "\n",
    "C_0 = 0.2     \n",
    "k = 0.1\n",
    "m = -200         # Liquidus slope  K\n",
    "D = 3e-09            # Solute Diffusivity m^2/s\n",
    "T_a = 800       # Melting Point K\n",
    "sig = 0.1           # Surface energy J/m^2\n",
    "\n",
    "Gam = sig/(8.314/1e-5*np.log(C_0)*C_0*(k-1))    # Gibbs-Thomson Parameter\n",
    "\n",
    "\n",
    "# Ivantsov function\n",
    "\n",
    "def I3(P):\n",
    "    \n",
    "    return P*exp1(P)*np.exp(P)\n",
    "\n",
    "# Peclet numbers\n",
    "\n",
    "def P_c(R,v):\n",
    "    \n",
    "    return R*v/(2*D)\n",
    "\n",
    "# define functions to optimize\n",
    "\n",
    "def fun1(R,v,delT):\n",
    "    \n",
    "    #t_t = L_f/C_p*I3(P_t(R,v))\n",
    "    t_c = -m*C_0*(1-k)*I3(P_c(R,v))/(1 - (1-k)*I3(P_c(R,v)))\n",
    "    t_r = 2*Gam/R\n",
    "    \n",
    "    return delT - (t_c + t_r)\n",
    "/\n",
    "def fun2(R,v,sigma):\n",
    "    \n",
    "    return R*R*v + Gam*2*D/(sigma*sigma*m*C_0*(1-k))\n",
    "\n",
    "print(Gam)"
   ]
  },
  {
   "cell_type": "code",
   "execution_count": 48,
   "metadata": {},
   "outputs": [
    {
     "name": "stdout",
     "output_type": "stream",
     "text": [
      "[1.e-06 3.e-06 5.e-06 1.e-05 8.e-06] [2.19147400e-04 8.61069801e-05 5.32729592e-05 2.72442234e-05\n",
      " 3.38649146e-05]\n"
     ]
    },
    {
     "data": {
      "text/plain": [
       "array([2.19147400e-10, 2.58320940e-10, 2.66364796e-10, 2.72442234e-10,\n",
       "       2.70919316e-10])"
      ]
     },
     "execution_count": 48,
     "metadata": {},
     "output_type": "execute_result"
    }
   ],
   "source": [
    "def funs(v_n,R_n):\n",
    "    return fun1(R_n,v_n,5)\n",
    "\n",
    "Rs = np.array([1e-6,3e-6,5e-6,1e-5,8e-6])\n",
    "vs = np.array([fsolve(funs,1e-4,R) for R in Rs])[:,0]\n",
    "print(Rs,vs)\n",
    "np.multiply(Rs,vs)"
   ]
  },
  {
   "cell_type": "markdown",
   "metadata": {},
   "source": [
    "### $R_{tip}$ and $v_{tip}$ as functions of undercooling:"
   ]
  },
  {
   "cell_type": "code",
   "execution_count": 55,
   "metadata": {},
   "outputs": [
    {
     "data": {
      "text/plain": [
       "array([4.13277306e-07, 3.43548671e-04])"
      ]
     },
     "execution_count": 55,
     "metadata": {},
     "output_type": "execute_result"
    }
   ],
   "source": [
    "def opt_fn(x,delT,sigma):\n",
    "    \n",
    "    R = x[0]\n",
    "    v = x[1]\n",
    "    \n",
    "    return fun1(R,v,delT),fun2(R,v,sigma)\n",
    "\n",
    "fsolve(opt_fn,[1e-7,1e-3],args=(5,0.025))"
   ]
  },
  {
   "cell_type": "code",
   "execution_count": 56,
   "metadata": {},
   "outputs": [
    {
     "name": "stdout",
     "output_type": "stream",
     "text": [
      "0.0010350867326731027\n"
     ]
    }
   ],
   "source": [
    "l1 = np.power(32*D*Gam*360/np.power(0.025,2), 0.25)/(np.power(1e5,0.5)*np.power(2e-6,0.25))\n",
    "print(l1)"
   ]
  }
 ],
 "metadata": {
  "kernelspec": {
   "display_name": "Python 3",
   "language": "python",
   "name": "python3"
  },
  "language_info": {
   "codemirror_mode": {
    "name": "ipython",
    "version": 3
   },
   "file_extension": ".py",
   "mimetype": "text/x-python",
   "name": "python",
   "nbconvert_exporter": "python",
   "pygments_lexer": "ipython3",
   "version": "3.6.3"
  }
 },
 "nbformat": 4,
 "nbformat_minor": 2
}
